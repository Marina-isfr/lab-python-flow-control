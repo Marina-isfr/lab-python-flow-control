{
 "cells": [
  {
   "cell_type": "markdown",
   "id": "d3bfc191-8885-42ee-b0a0-bbab867c6f9f",
   "metadata": {
    "editable": true,
    "slideshow": {
     "slide_type": ""
    },
    "tags": []
   },
   "source": [
    "# Lab | Flow Control"
   ]
  },
  {
   "cell_type": "markdown",
   "id": "3851fcd1-cf98-4653-9c89-e003b7ec9400",
   "metadata": {
    "editable": true,
    "slideshow": {
     "slide_type": ""
    },
    "tags": []
   },
   "source": [
    "## Exercise: Managing Customer Orders Optimized\n",
    "\n",
    "In the last lab, you were starting an online store that sells various products. To ensure smooth operations, you developed a program that manages customer orders and inventory.\n",
    "\n",
    "You did so without using flow control. Let's go a step further and improve this code.\n",
    "\n",
    "Follow the steps below to complete the exercise:\n",
    "\n",
    "1. Look at your code from the lab data structures, and improve repeated code with loops.\n",
    "\n",
    "2. Instead of asking the user to input the name of three products that a customer wants to order, do the following:\n",
    "    \n",
    "    a. Prompt the user to enter the name of a product that a customer wants to order.\n",
    "    \n",
    "    b. Add the product name to the \"customer_orders\" set.\n",
    "    \n",
    "    c. Ask the user if they want to add another product (yes/no).\n",
    "    \n",
    "    d. Continue the loop until the user does not want to add another product.\n",
    "\n",
    "3. Instead of updating the inventory by subtracting 1 from the quantity of each product, only do it for  the products that were ordered (those in \"customer_orders\")."
   ]
  },
  {
   "cell_type": "code",
   "execution_count": 5,
   "id": "025beb46-94c8-4d4a-9df6-fea6e08e21ac",
   "metadata": {
    "editable": true,
    "slideshow": {
     "slide_type": ""
    },
    "tags": []
   },
   "outputs": [
    {
     "name": "stdout",
     "output_type": "stream",
     "text": [
      "Total of products:  5\n"
     ]
    },
    {
     "name": "stdin",
     "output_type": "stream",
     "text": [
      "Please enter the quantity of t-shirt available:  4\n",
      "Please enter the quantity of mug available:  5\n",
      "Please enter the quantity of hat available:  6\n",
      "Please enter the quantity of book available:  7\n",
      "Please enter the quantity of keychain available:  8\n"
     ]
    },
    {
     "name": "stdout",
     "output_type": "stream",
     "text": [
      "{'t-shirt': 4, 'mug': 5, 'hat': 6, 'book': 7, 'keychain': 8}\n"
     ]
    }
   ],
   "source": [
    "#Lab | Flow Control\n",
    "#Exercise: Managing Customer Orders Optimized\n",
    "#In the last lab, you were starting an online store that sells various products. To ensure smooth operations, you developed a program that manages customer orders and inventory.\n",
    "#You did so without using flow control. Let's go a step further and improve this code.\n",
    "#Follow the steps below to complete the exercise:\n",
    "\n",
    "#Look at your code from the lab data structures, and improve repeated code with loops.\n",
    "#Look at your code from the lab data structures, and improve repeated code with loops.\n",
    "\n",
    "#Follow the steps below to complete the exercise:\n",
    "#Define a list called products that contains the following items: \"t-shirt\", \"mug\", \"hat\", \"book\", \"keychain\".\n",
    "#Create an empty dictionary called inventory.\n",
    "#Ask the user to input the quantity of each product available in the inventory. Use the product names from the products list as keys in the inventory dictionary and assign the respective quantities as values.\n",
    "products = [\"t-shirt\", \"mug\", \"hat\", \"book\", \"keychain\"]\n",
    "number_of_products=len(products)\n",
    "print(\"Total of products: \", number_of_products)\n",
    "inventory = {}\n",
    "for item in products:\n",
    "    quantity_of_each_product = int(input(\"Please enter the quantity of \"+ item + \" available: \"))\n",
    "    inventory[item] = quantity_of_each_product\n",
    "print(inventory)\n",
    "\n"
   ]
  },
  {
   "cell_type": "code",
   "execution_count": 15,
   "id": "5b8ba0a6-7078-4cb2-9b9c-ed78cbf32204",
   "metadata": {
    "editable": true,
    "slideshow": {
     "slide_type": ""
    },
    "tags": []
   },
   "outputs": [
    {
     "name": "stdin",
     "output_type": "stream",
     "text": [
      "Please enter the name of a product you want to order:  hat\n",
      "Do you want to add another product? (yes/no):  yes\n",
      "Please enter the name of a product you want to order:  book\n",
      "Do you want to add another product? (yes/no):  ye\n",
      "Please enter the name of a product you want to order:  fds\n"
     ]
    },
    {
     "name": "stdout",
     "output_type": "stream",
     "text": [
      "This product is not available. Please choose from the following: ['t-shirt', 'mug', 'hat', 'book', 'keychain']\n"
     ]
    },
    {
     "name": "stdin",
     "output_type": "stream",
     "text": [
      "Do you want to add another product? (yes/no):  yes\n",
      "Please enter the name of a product you want to order:  mug\n",
      "Do you want to add another product? (yes/no):  no\n"
     ]
    },
    {
     "name": "stdout",
     "output_type": "stream",
     "text": [
      "Thank you for your purchase\n",
      "This is your purchase summary;  {'hat', 'book', 'mug'}\n"
     ]
    }
   ],
   "source": [
    "#Create an empty set called customer_orders.\n",
    "#Instead of asking the user to input the name of three products that a customer wants to order, do the following:\n",
    "#a. Prompt the user to enter the name of a product that a customer wants to order.\n",
    "#b. Add the product name to the \"customer_orders\" set.\n",
    "#c. Ask the user if they want to add another product (yes/no).\n",
    "#d. Continue the loop until the user does not want to add another product.\n",
    "\n",
    "customers_order= set()\n",
    "\n",
    "add_another_product = True\n",
    "while add_another_product:\n",
    "    product_name = input(\"Please enter the name of a product you want to order: \").lower()\n",
    "    if product_name in products:\n",
    "        customers_order.add(product_name)\n",
    "    else:\n",
    "        print(\"This product is not available. Please choose from the following:\", products)\n",
    "    add_another = input(\"Do you want to add another product? (yes/no): \").lower()\n",
    "    if add_another == 'no':\n",
    "        add_another_product = False\n",
    "print(\"Thank you for your purchase\")\n",
    "print(\"This is your purchase summary; \",customers_order)\n"
   ]
  },
  {
   "cell_type": "code",
   "execution_count": 24,
   "id": "350223a2-d79f-49ae-82ca-5d87b37ba993",
   "metadata": {
    "editable": true,
    "slideshow": {
     "slide_type": ""
    },
    "tags": []
   },
   "outputs": [
    {
     "name": "stdout",
     "output_type": "stream",
     "text": [
      "Updated Inventory:\n",
      "('t-shirt', 4)\n",
      "('mug', -1)\n",
      "('hat', 0)\n",
      "('book', 1)\n",
      "('keychain', 8)\n"
     ]
    }
   ],
   "source": [
    "#Update the inventory by subtracting 1 from the quantity of each product. Modify the inventory dictionary accordingly.\n",
    "#Instead of updating the inventory by subtracting 1 from the quantity of each product, only do it for the products that were ordered (those in \"customer_orders\").\n",
    "\n",
    "for product in customers_order:\n",
    "    if product in inventory:\n",
    "        inventory[product] -= 1\n",
    "\n",
    "print(\"Updated Inventory:\")\n",
    "for product in inventory.items():\n",
    "    print(product)"
   ]
  },
  {
   "cell_type": "code",
   "execution_count": null,
   "id": "281eb86a-d834-424e-8c4d-cb1b69609130",
   "metadata": {},
   "outputs": [],
   "source": []
  }
 ],
 "metadata": {
  "kernelspec": {
   "display_name": "Python 3 (ipykernel)",
   "language": "python",
   "name": "python3"
  },
  "language_info": {
   "codemirror_mode": {
    "name": "ipython",
    "version": 3
   },
   "file_extension": ".py",
   "mimetype": "text/x-python",
   "name": "python",
   "nbconvert_exporter": "python",
   "pygments_lexer": "ipython3",
   "version": "3.11.7"
  }
 },
 "nbformat": 4,
 "nbformat_minor": 5
}
